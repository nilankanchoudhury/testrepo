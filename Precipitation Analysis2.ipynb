{
    "cells": [
        {
            "metadata": {},
            "cell_type": "markdown",
            "source": "# Precipitation Analysis\nThis piece of code is to analyse Precipitation data of JFK Airport"
        },
        {
            "metadata": {},
            "cell_type": "code",
            "source": "\nimport os, types\nimport pandas as pd\nfrom botocore.client import Config\nimport ibm_boto3\n\ndef __iter__(self): return 0\n\n# @hidden_cell\n# The following code accesses a file in your IBM Cloud Object Storage. It includes your credentials.\n# You might want to remove those credentials before you share the notebook.\nclient_c11d0b1fb2ef4b2aabc11e1929c8f6ce = ibm_boto3.client(service_name='s3',\n    ibm_api_key_id='LOGkwtc7iKcYvWnEBi7zxnyM9aBApZg6Ld9jgyOUXh86',\n    ibm_auth_endpoint=\"https://iam.cloud.ibm.com/oidc/token\",\n    config=Config(signature_version='oauth'),\n    endpoint_url='https://s3.private.us.cloud-object-storage.appdomain.cloud')\n\nbody = client_c11d0b1fb2ef4b2aabc11e1929c8f6ce.get_object(Bucket='myfirstproject-donotdelete-pr-qwiela0wrjgwn0',Key='jfk_weather_cleaned.csv')['Body']\n# add missing __iter__ method, so pandas accepts body as file-like object\nif not hasattr(body, \"__iter__\"): body.__iter__ = types.MethodType( __iter__, body )\n\ndf_data_1 = pd.read_csv(body)\ndf_data_1.head()\n",
            "execution_count": 1,
            "outputs": [
                {
                    "output_type": "execute_result",
                    "execution_count": 1,
                    "data": {
                        "text/plain": "                  DATE  HOURLYVISIBILITY  HOURLYDRYBULBTEMPF  \\\n0  2010-01-01 01:00:00               6.0                33.0   \n1  2010-01-01 02:00:00               6.0                33.0   \n2  2010-01-01 03:00:00               5.0                33.0   \n3  2010-01-01 04:00:00               5.0                33.0   \n4  2010-01-01 05:00:00               5.0                33.0   \n\n   HOURLYWETBULBTEMPF  HOURLYDewPointTempF  HOURLYRelativeHumidity  \\\n0                32.0                 31.0                    92.0   \n1                33.0                 32.0                    96.0   \n2                33.0                 32.0                    96.0   \n3                33.0                 32.0                    96.0   \n4                32.0                 31.0                    92.0   \n\n   HOURLYWindSpeed  HOURLYStationPressure  HOURLYSeaLevelPressure  \\\n0              0.0                  29.97                   29.99   \n1              0.0                  29.97                   29.99   \n2              0.0                  29.97                   29.99   \n3              0.0                  29.95                   29.97   \n4              0.0                  29.93                   29.96   \n\n   HOURLYPrecip  HOURLYAltimeterSetting  HOURLYWindDirectionSin  \\\n0          0.01                   29.99                     0.0   \n1          0.02                   29.99                     0.0   \n2          0.00                   29.99                     0.0   \n3          0.00                   29.97                     0.0   \n4          0.00                   29.95                     0.0   \n\n   HOURLYWindDirectionCos  HOURLYPressureTendencyIncr  \\\n0                     1.0                           0   \n1                     1.0                           0   \n2                     1.0                           0   \n3                     1.0                           0   \n4                     1.0                           0   \n\n   HOURLYPressureTendencyDecr  HOURLYPressureTendencyCons  \n0                           1                           0  \n1                           1                           0  \n2                           1                           0  \n3                           1                           0  \n4                           1                           0  ",
                        "text/html": "<div>\n<style scoped>\n    .dataframe tbody tr th:only-of-type {\n        vertical-align: middle;\n    }\n\n    .dataframe tbody tr th {\n        vertical-align: top;\n    }\n\n    .dataframe thead th {\n        text-align: right;\n    }\n</style>\n<table border=\"1\" class=\"dataframe\">\n  <thead>\n    <tr style=\"text-align: right;\">\n      <th></th>\n      <th>DATE</th>\n      <th>HOURLYVISIBILITY</th>\n      <th>HOURLYDRYBULBTEMPF</th>\n      <th>HOURLYWETBULBTEMPF</th>\n      <th>HOURLYDewPointTempF</th>\n      <th>HOURLYRelativeHumidity</th>\n      <th>HOURLYWindSpeed</th>\n      <th>HOURLYStationPressure</th>\n      <th>HOURLYSeaLevelPressure</th>\n      <th>HOURLYPrecip</th>\n      <th>HOURLYAltimeterSetting</th>\n      <th>HOURLYWindDirectionSin</th>\n      <th>HOURLYWindDirectionCos</th>\n      <th>HOURLYPressureTendencyIncr</th>\n      <th>HOURLYPressureTendencyDecr</th>\n      <th>HOURLYPressureTendencyCons</th>\n    </tr>\n  </thead>\n  <tbody>\n    <tr>\n      <th>0</th>\n      <td>2010-01-01 01:00:00</td>\n      <td>6.0</td>\n      <td>33.0</td>\n      <td>32.0</td>\n      <td>31.0</td>\n      <td>92.0</td>\n      <td>0.0</td>\n      <td>29.97</td>\n      <td>29.99</td>\n      <td>0.01</td>\n      <td>29.99</td>\n      <td>0.0</td>\n      <td>1.0</td>\n      <td>0</td>\n      <td>1</td>\n      <td>0</td>\n    </tr>\n    <tr>\n      <th>1</th>\n      <td>2010-01-01 02:00:00</td>\n      <td>6.0</td>\n      <td>33.0</td>\n      <td>33.0</td>\n      <td>32.0</td>\n      <td>96.0</td>\n      <td>0.0</td>\n      <td>29.97</td>\n      <td>29.99</td>\n      <td>0.02</td>\n      <td>29.99</td>\n      <td>0.0</td>\n      <td>1.0</td>\n      <td>0</td>\n      <td>1</td>\n      <td>0</td>\n    </tr>\n    <tr>\n      <th>2</th>\n      <td>2010-01-01 03:00:00</td>\n      <td>5.0</td>\n      <td>33.0</td>\n      <td>33.0</td>\n      <td>32.0</td>\n      <td>96.0</td>\n      <td>0.0</td>\n      <td>29.97</td>\n      <td>29.99</td>\n      <td>0.00</td>\n      <td>29.99</td>\n      <td>0.0</td>\n      <td>1.0</td>\n      <td>0</td>\n      <td>1</td>\n      <td>0</td>\n    </tr>\n    <tr>\n      <th>3</th>\n      <td>2010-01-01 04:00:00</td>\n      <td>5.0</td>\n      <td>33.0</td>\n      <td>33.0</td>\n      <td>32.0</td>\n      <td>96.0</td>\n      <td>0.0</td>\n      <td>29.95</td>\n      <td>29.97</td>\n      <td>0.00</td>\n      <td>29.97</td>\n      <td>0.0</td>\n      <td>1.0</td>\n      <td>0</td>\n      <td>1</td>\n      <td>0</td>\n    </tr>\n    <tr>\n      <th>4</th>\n      <td>2010-01-01 05:00:00</td>\n      <td>5.0</td>\n      <td>33.0</td>\n      <td>32.0</td>\n      <td>31.0</td>\n      <td>92.0</td>\n      <td>0.0</td>\n      <td>29.93</td>\n      <td>29.96</td>\n      <td>0.00</td>\n      <td>29.95</td>\n      <td>0.0</td>\n      <td>1.0</td>\n      <td>0</td>\n      <td>1</td>\n      <td>0</td>\n    </tr>\n  </tbody>\n</table>\n</div>"
                    },
                    "metadata": {}
                }
            ]
        },
        {
            "metadata": {},
            "cell_type": "code",
            "source": "",
            "execution_count": null,
            "outputs": []
        }
    ],
    "metadata": {
        "kernelspec": {
            "name": "python3",
            "display_name": "Python 3.8",
            "language": "python"
        },
        "language_info": {
            "name": "python",
            "version": "3.8.12",
            "mimetype": "text/x-python",
            "codemirror_mode": {
                "name": "ipython",
                "version": 3
            },
            "pygments_lexer": "ipython3",
            "nbconvert_exporter": "python",
            "file_extension": ".py"
        }
    },
    "nbformat": 4,
    "nbformat_minor": 1
}